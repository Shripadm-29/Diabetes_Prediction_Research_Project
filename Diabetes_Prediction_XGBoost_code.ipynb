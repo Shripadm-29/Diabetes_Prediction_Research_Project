{
  "nbformat": 4,
  "nbformat_minor": 0,
  "metadata": {
    "colab": {
      "provenance": []
    },
    "kernelspec": {
      "name": "python3",
      "display_name": "Python 3"
    },
    "language_info": {
      "name": "python"
    }
  },
  "cells": [
    {
      "cell_type": "code",
      "execution_count": null,
      "metadata": {
        "colab": {
          "base_uri": "https://localhost:8080/"
        },
        "id": "8nQXLVRsWPoD",
        "outputId": "7981bb9b-aa94-4a0c-e6b5-922060acd2a5"
      },
      "outputs": [
        {
          "output_type": "stream",
          "name": "stdout",
          "text": [
            "Mounted at /content/drive\n"
          ]
        }
      ],
      "source": [
        "from google.colab import drive\n",
        "drive.mount('/content/drive')"
      ]
    },
    {
      "cell_type": "markdown",
      "source": [
        "Importing google drive to access dataset."
      ],
      "metadata": {
        "id": "WS1k0T2NRdjO"
      }
    },
    {
      "cell_type": "code",
      "source": [
        "import pandas as pd\n",
        "import matplotlib.pyplot as plt\n",
        "from pandas.plotting import andrews_curves\n",
        "import seaborn as sns\n",
        "import xgboost as xgb\n",
        "import numpy as np\n",
        "import os\n",
        "from sklearn.metrics import accuracy_score\n",
        "from sklearn.impute import SimpleImputer\n",
        "from imblearn.over_sampling import ADASYN\n",
        "from sklearn.preprocessing import OneHotEncoder\n",
        "from sklearn.preprocessing import StandardScaler\n",
        "from sklearn.metrics import confusion_matrix\n",
        "\n",
        "path_train = '/content/drive/MyDrive/Data/train_data.csv'\n",
        "train_df = pd.read_csv(path_train)\n",
        "\n",
        "path_val = '/content/drive/MyDrive/Data/val_data.csv'\n",
        "val_df = pd.read_csv(path_val)\n",
        "\n",
        "path_test = '/content/drive/MyDrive/Data/test_data.csv'\n",
        "test_df = pd.read_csv(path_test)"
      ],
      "metadata": {
        "id": "gBuG0loaXN3e"
      },
      "execution_count": null,
      "outputs": []
    },
    {
      "cell_type": "markdown",
      "source": [
        "Imports and getting the dataset ready to be used by the models."
      ],
      "metadata": {
        "id": "5AEhlKa6Rok6"
      }
    },
    {
      "cell_type": "code",
      "source": [
        "X = train_df.columns.difference(['diabetes'])\n",
        "y = ['diabetes']\n",
        "\n",
        "X_train = train_df[X]\n",
        "print('X_train, our input variables:')\n",
        "print(X_train.head())\n",
        "print()\n",
        "\n",
        "y_train = train_df[y]\n",
        "print('y_train, our output variable:')\n",
        "print(y_train.head())"
      ],
      "metadata": {
        "colab": {
          "base_uri": "https://localhost:8080/"
        },
        "id": "OQQZEQwIXigO",
        "outputId": "63c08628-78fd-4bc8-cebe-e933a1b1b47b"
      },
      "execution_count": null,
      "outputs": [
        {
          "output_type": "stream",
          "name": "stdout",
          "text": [
            "X_train, our input variables:\n",
            "   HbA1c_level   age  blood_glucose_level    bmi  gender  heart_disease  \\\n",
            "0          4.0  36.0                  145  17.06     1.0              0   \n",
            "1          6.1  58.0                  159  37.83     0.0              0   \n",
            "2          5.0  43.0                  160  39.20     0.0              0   \n",
            "3          5.7  67.0                  159  28.39     1.0              0   \n",
            "4          6.0   5.0                   80  27.32     0.0              0   \n",
            "\n",
            "   hypertension  smoking_history_current  smoking_history_ever  \\\n",
            "0             0                        0                     0   \n",
            "1             0                        0                     0   \n",
            "2             0                        0                     0   \n",
            "3             1                        0                     0   \n",
            "4             0                        0                     0   \n",
            "\n",
            "   smoking_history_former  smoking_history_never  smoking_history_not current  \n",
            "0                       0                      1                            0  \n",
            "1                       0                      0                            0  \n",
            "2                       0                      1                            0  \n",
            "3                       0                      1                            0  \n",
            "4                       0                      0                            0  \n",
            "\n",
            "y_train, our output variable:\n",
            "   diabetes\n",
            "0         0\n",
            "1         0\n",
            "2         0\n",
            "3         0\n",
            "4         0\n"
          ]
        }
      ]
    },
    {
      "cell_type": "markdown",
      "source": [
        "Assigning data to X_train and y_train."
      ],
      "metadata": {
        "id": "Aa6dMErERyra"
      }
    },
    {
      "cell_type": "code",
      "source": [
        "imputer = SimpleImputer(strategy='mean')\n",
        "X_train_imputed = imputer.fit_transform(X_train)"
      ],
      "metadata": {
        "id": "GRnmiZB8yGmx"
      },
      "execution_count": null,
      "outputs": []
    },
    {
      "cell_type": "code",
      "source": [
        "adasyn = ADASYN(random_state=42)\n",
        "X_adasyn, y_adasyn = adasyn.fit_resample(X_train_imputed, y_train)"
      ],
      "metadata": {
        "id": "4LS0_T_VZDbR"
      },
      "execution_count": null,
      "outputs": []
    },
    {
      "cell_type": "code",
      "source": [
        "X_val = val_df[X]\n",
        "y_val = val_df[y]"
      ],
      "metadata": {
        "id": "eZen04ZuZIM9"
      },
      "execution_count": null,
      "outputs": []
    },
    {
      "cell_type": "code",
      "source": [
        "X_test = test_df[X]\n",
        "y_test = test_df[y]"
      ],
      "metadata": {
        "id": "1N1lDtqweakF"
      },
      "execution_count": null,
      "outputs": []
    },
    {
      "cell_type": "code",
      "source": [
        "scaler = StandardScaler()\n",
        "X_adasyn_scaled = scaler.fit_transform(X_adasyn)\n",
        "X_test_scaled = scaler.transform(X_val)"
      ],
      "metadata": {
        "id": "Fd7FxpPUc56a"
      },
      "execution_count": null,
      "outputs": []
    },
    {
      "cell_type": "markdown",
      "source": [
        "The code uses a StandardScaler to standardize the features of two datasets, X_adasyn and X_val. The fit_transform method scales the training data (X_adasyn), while the transform method scales the validation data (X_val) using the parameters learned from the training data."
      ],
      "metadata": {
        "id": "l2AsrU7uyEM8"
      }
    },
    {
      "cell_type": "code",
      "source": [
        "xgb_train = xgb.DMatrix(X_adasyn, label=y_adasyn)\n",
        "\n",
        "params = {\n",
        "    'max_depth': 4,\n",
        "    'min_child_weight': 3,\n",
        "    'gamma': 0.1,\n",
        "    'eta': 0.005,  # kind of like LR for XGBoost\n",
        "    'silent': 1,  # quiet logging mode\n",
        "    'objective': 'binary:logistic'\n",
        "    }\n",
        "\n",
        "num_round = 5\n",
        "\n",
        "bst = xgb.train(params, xgb_train, num_round)"
      ],
      "metadata": {
        "id": "w7AL0D9YZkqy"
      },
      "execution_count": null,
      "outputs": []
    },
    {
      "cell_type": "markdown",
      "source": [
        "\n",
        "The code sets up and trains an XGBoost classifier. It converts the training data (X_adasyn and y_adasyn) into a specific data structure (xgb.DMatrix) for XGBoost, defines hyperparameters (max_depth, eta, silent, objective), and trains the model for a specified number of rounds (num_round)."
      ],
      "metadata": {
        "id": "EOjRHZItyXgc"
      }
    },
    {
      "cell_type": "code",
      "source": [
        "y_train_pred_probs = bst.predict(xgb_train)\n",
        "y_train_pred = [1 if prob > 0.5 else 0 for prob in y_train_pred_probs]\n",
        "\n",
        "# Calculate and print accuracy on the training set\n",
        "accuracy_train = accuracy_score(y_adasyn, y_train_pred)\n",
        "print(f\"Training Accuracy with ADASYN: {accuracy_train}\")"
      ],
      "metadata": {
        "colab": {
          "base_uri": "https://localhost:8080/"
        },
        "id": "sw9jhzbdTALc",
        "outputId": "f119b2d1-416f-4cfc-dd10-6a237facfe5a"
      },
      "execution_count": null,
      "outputs": [
        {
          "output_type": "stream",
          "name": "stdout",
          "text": [
            "Training Accuracy with ADASYN: 0.8688395145713627\n"
          ]
        }
      ]
    },
    {
      "cell_type": "code",
      "source": [
        "cm = confusion_matrix(y_adasyn, y_train_pred)\n",
        "cm_df = pd.DataFrame(cm, index = [i for i in \"01\"], columns = [i for i in \"01\"])\n",
        "plt.figure(figsize=(7,5))\n",
        "sns.heatmap(cm_df, annot=True, cmap='Blues', fmt='g')\n",
        "plt.title('Confusion Matrix (ADASYN)')\n",
        "plt.ylabel('Actual Label')\n",
        "plt.xlabel('Predicted Label')\n",
        "plt.show()"
      ],
      "metadata": {
        "colab": {
          "base_uri": "https://localhost:8080/",
          "height": 487
        },
        "id": "EB0o8bKBTYko",
        "outputId": "2e1e6a8a-4914-4202-ecc8-defa645ea82b"
      },
      "execution_count": null,
      "outputs": [
        {
          "output_type": "display_data",
          "data": {
            "text/plain": [
              "<Figure size 700x500 with 2 Axes>"
            ],
            "image/png": "[encoded data removed]"
          },
          "metadata": {}
        }
      ]
    },
    {
      "cell_type": "markdown",
      "source": [
        "The code computes a confusion matrix using the predicted values (y_pred_val) and actual labels (y_val). It then visualizes the confusion matrix using a heatmap, providing an overview of the model's performance in terms of true positives, true negatives, false positives, and false negatives."
      ],
      "metadata": {
        "id": "H7bPx_6my-ta"
      }
    },
    {
      "cell_type": "markdown",
      "source": [
        "Accuracy for predicting the diabetes label on the training set: (79682/82275) * 100 = 97%"
      ],
      "metadata": {
        "id": "B9GyEuByTz5H"
      }
    },
    {
      "cell_type": "code",
      "source": [
        "xgb_val = xgb.DMatrix(X_val)\n",
        "\n",
        "y_pred_probs = bst.predict(xgb_val)\n",
        "y_pred = [1 if prob > 0.5 else 0 for prob in y_pred_probs]\n",
        "\n",
        "accuracy = accuracy_score(y_val, y_pred)\n",
        "print(f\"Validation Accuracy: {accuracy}\")"
      ],
      "metadata": {
        "colab": {
          "base_uri": "https://localhost:8080/"
        },
        "id": "1JEF9UkdhEHF",
        "outputId": "3ac68811-af19-4b49-b098-ad4f37be4ed3"
      },
      "execution_count": null,
      "outputs": [
        {
          "output_type": "stream",
          "name": "stdout",
          "text": [
            "Validation Accuracy: 0.783\n"
          ]
        }
      ]
    },
    {
      "cell_type": "markdown",
      "source": [
        "Computes the accuracy of the overall model."
      ],
      "metadata": {
        "id": "swXOQso-yu7f"
      }
    },
    {
      "cell_type": "code",
      "source": [
        "xgb_test = xgb.DMatrix(X_test)\n",
        "\n",
        "y_pred_probs = bst.predict(xgb_test)\n",
        "y_pred = [1 if prob > 0.5 else 0 for prob in y_pred_probs]\n",
        "\n",
        "accuracy = accuracy_score(y_test, y_pred)\n",
        "print(f\"Test set Accuracy: {accuracy}\")"
      ],
      "metadata": {
        "colab": {
          "base_uri": "https://localhost:8080/"
        },
        "id": "XhHoYcdGewJx",
        "outputId": "00ceb662-c3e1-4f87-cb8a-b606e1563e7f"
      },
      "execution_count": null,
      "outputs": [
        {
          "output_type": "stream",
          "name": "stdout",
          "text": [
            "Test set Accuracy: 0.7788\n"
          ]
        }
      ]
    },
    {
      "cell_type": "code",
      "source": [
        "cm = confusion_matrix(y_val, y_pred)"
      ],
      "metadata": {
        "id": "mK6R9yQKZPav"
      },
      "execution_count": null,
      "outputs": []
    },
    {
      "cell_type": "code",
      "source": [
        "cm_df = pd.DataFrame(cm, index = [i for i in \"01\"], columns = [i for i in \"01\"])"
      ],
      "metadata": {
        "id": "C0895S03ZP8l"
      },
      "execution_count": null,
      "outputs": []
    },
    {
      "cell_type": "code",
      "source": [
        "plt.figure(figsize=(7,5))\n",
        "sns.heatmap(cm_df, annot=True, cmap='Blues', fmt='g')\n",
        "plt.title('Confusion Matrix')\n",
        "plt.ylabel('Actual Label')\n",
        "plt.xlabel('Predicted Label')\n",
        "plt.show()"
      ],
      "metadata": {
        "colab": {
          "base_uri": "https://localhost:8080/",
          "height": 487
        },
        "id": "j1P8FupXZThQ",
        "outputId": "22d9b647-92a1-4b85-bad5-d7df7908e25e"
      },
      "execution_count": null,
      "outputs": [
        {
          "output_type": "display_data",
          "data": {
            "text/plain": [
              "<Figure size 700x500 with 2 Axes>"
            ],
            "image/png": "[encoded data removed]"
          },
          "metadata": {}
        }
      ]
    },
    {
      "cell_type": "markdown",
      "source": [
        "Accuracy for predicting the diabetes label on the validation set: (405/429) * 100 = 94.4%"
      ],
      "metadata": {
        "id": "wqdE_F1KolMa"
      }
    },
    {
      "cell_type": "code",
      "source": [
        "cm = confusion_matrix(y_test, y_pred)"
      ],
      "metadata": {
        "id": "_rUEEMhkfDd0"
      },
      "execution_count": null,
      "outputs": []
    },
    {
      "cell_type": "code",
      "source": [
        "cm_df = pd.DataFrame(cm, index = [i for i in \"01\"], columns = [i for i in \"01\"])"
      ],
      "metadata": {
        "id": "kVZ-SCDJfH0k"
      },
      "execution_count": null,
      "outputs": []
    },
    {
      "cell_type": "code",
      "source": [
        "plt.figure(figsize=(7,5))\n",
        "sns.heatmap(cm_df, annot=True, cmap='Blues', fmt='g')\n",
        "plt.title('Confusion Matrix')\n",
        "plt.ylabel('Actual Label')\n",
        "plt.xlabel('Predicted Label')\n",
        "plt.show()"
      ],
      "metadata": {
        "colab": {
          "base_uri": "https://localhost:8080/",
          "height": 487
        },
        "id": "5nky3DGwfKbf",
        "outputId": "75f6f62f-4c5f-4110-a011-3865bf5fc943"
      },
      "execution_count": null,
      "outputs": [
        {
          "output_type": "display_data",
          "data": {
            "text/plain": [
              "<Figure size 700x500 with 2 Axes>"
            ],
            "image/png": "[encoded data removed]"
          },
          "metadata": {}
        }
      ]
    },
    {
      "cell_type": "markdown",
      "source": [
        "The accuracy for predicting the diabetes label on test set is: (414/434) * 100 = 95.4%"
      ],
      "metadata": {
        "id": "ABEUt4vzfcFr"
      }
    }
  ]
}