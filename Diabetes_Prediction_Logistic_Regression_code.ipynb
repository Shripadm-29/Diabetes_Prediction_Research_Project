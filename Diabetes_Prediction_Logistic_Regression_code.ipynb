{
  "nbformat": 4,
  "nbformat_minor": 0,
  "metadata": {
    "colab": {
      "provenance": []
    },
    "kernelspec": {
      "name": "python3",
      "display_name": "Python 3"
    },
    "language_info": {
      "name": "python"
    }
  },
  "cells": [
    {
      "cell_type": "code",
      "execution_count": null,
      "metadata": {
        "colab": {
          "base_uri": "https://localhost:8080/"
        },
        "id": "jzzWXpkIa2AC",
        "outputId": "96c511c6-7258-4136-b6a2-c51781da2313"
      },
      "outputs": [
        {
          "output_type": "stream",
          "name": "stdout",
          "text": [
            "Mounted at /content/drive\n"
          ]
        }
      ],
      "source": [
        "from google.colab import drive\n",
        "drive.mount('/content/drive')"
      ]
    },
    {
      "cell_type": "code",
      "source": [
        "import pandas as pd\n",
        "import seaborn as sns\n",
        "import matplotlib.pyplot as plt\n",
        "from sklearn.metrics import accuracy_score\n",
        "from sklearn.impute import SimpleImputer\n",
        "from sklearn.linear_model import LogisticRegression\n",
        "from sklearn.model_selection import GridSearchCV\n",
        "from sklearn.metrics import confusion_matrix\n",
        "from imblearn.over_sampling import ADASYN\n",
        "import numpy as np\n",
        "\n",
        "path_train = '/content/drive/MyDrive/Data/train_data.csv'\n",
        "train_df = pd.read_csv(path_train)\n",
        "\n",
        "path_val = '/content/drive/MyDrive/Data/val_data.csv'\n",
        "val_df = pd.read_csv(path_val)\n",
        "\n",
        "path_test = '/content/drive/MyDrive/Data/test_data.csv'\n",
        "test_df = pd.read_csv(path_test)"
      ],
      "metadata": {
        "id": "PVmQazl0e9gz"
      },
      "execution_count": null,
      "outputs": []
    },
    {
      "cell_type": "markdown",
      "source": [
        "Importing Libraries to set up the notebook, and getting the dataset ready to be used by the AI model."
      ],
      "metadata": {
        "id": "Id0aiayvc5D8"
      }
    },
    {
      "cell_type": "code",
      "source": [
        "X = train_df.columns.difference(['diabetes'])\n",
        "y = ['diabetes']\n",
        "\n",
        "X_train = train_df[X]\n",
        "print('X_train, our input variables:')\n",
        "print(X_train.head())\n",
        "print()\n",
        "\n",
        "y_train = train_df[y]\n",
        "print('y_train, our output variable:')\n",
        "print(y_train.head())\n",
        "\n",
        "\n"
      ],
      "metadata": {
        "colab": {
          "base_uri": "https://localhost:8080/"
        },
        "id": "Y7NvFoztbS0X",
        "outputId": "0af578e4-3879-475d-fbf1-370184e732e6"
      },
      "execution_count": null,
      "outputs": [
        {
          "output_type": "stream",
          "name": "stdout",
          "text": [
            "X_train, our input variables:\n",
            "   HbA1c_level   age  blood_glucose_level    bmi  gender  heart_disease  \\\n",
            "0          4.0  36.0                  145  17.06     1.0              0   \n",
            "1          6.1  58.0                  159  37.83     0.0              0   \n",
            "2          5.0  43.0                  160  39.20     0.0              0   \n",
            "3          5.7  67.0                  159  28.39     1.0              0   \n",
            "4          6.0   5.0                   80  27.32     0.0              0   \n",
            "\n",
            "   hypertension  smoking_history_current  smoking_history_ever  \\\n",
            "0             0                        0                     0   \n",
            "1             0                        0                     0   \n",
            "2             0                        0                     0   \n",
            "3             1                        0                     0   \n",
            "4             0                        0                     0   \n",
            "\n",
            "   smoking_history_former  smoking_history_never  smoking_history_not current  \n",
            "0                       0                      1                            0  \n",
            "1                       0                      0                            0  \n",
            "2                       0                      1                            0  \n",
            "3                       0                      1                            0  \n",
            "4                       0                      0                            0  \n",
            "\n",
            "y_train, our output variable:\n",
            "   diabetes\n",
            "0         0\n",
            "1         0\n",
            "2         0\n",
            "3         0\n",
            "4         0\n"
          ]
        }
      ]
    },
    {
      "cell_type": "markdown",
      "source": [
        "Setting up the model by mentioning which columns represent the input features and which column is the output label."
      ],
      "metadata": {
        "id": "swH8DvEBdbd8"
      }
    },
    {
      "cell_type": "code",
      "source": [
        "model = LogisticRegression()"
      ],
      "metadata": {
        "id": "suzoV1lHbV_O"
      },
      "execution_count": null,
      "outputs": []
    },
    {
      "cell_type": "markdown",
      "source": [
        "Defining the LogisticRegression model."
      ],
      "metadata": {
        "id": "8Bn2COKwdqyD"
      }
    },
    {
      "cell_type": "code",
      "source": [
        "imputer = SimpleImputer(strategy='mean')\n",
        "X_train_imputed = imputer.fit_transform(X_train)"
      ],
      "metadata": {
        "id": "mXG7IVKXoaF-"
      },
      "execution_count": null,
      "outputs": []
    },
    {
      "cell_type": "markdown",
      "source": [
        "To fill in missing values in the data, I used SimpleImputer, employing a strategy (in this case, the mean) to replace NaN values with the average numerical values from the available data."
      ],
      "metadata": {
        "id": "DqxLMBu5Yw2a"
      }
    },
    {
      "cell_type": "code",
      "source": [
        "#ADASYN for data augmentation\n",
        "adasyn = ADASYN(random_state=42)\n",
        "X_adasyn, y_adasyn = adasyn.fit_resample(X_train_imputed, y_train)"
      ],
      "metadata": {
        "id": "rTsZ0Ih6bcO2"
      },
      "execution_count": null,
      "outputs": []
    },
    {
      "cell_type": "markdown",
      "source": [
        "Resampling the existing dataset to make sure that the data is evenly balanced."
      ],
      "metadata": {
        "id": "7vQZMYVpeDmH"
      }
    },
    {
      "cell_type": "code",
      "source": [
        "print(X_adasyn.shape)\n",
        "print(y_adasyn.shape)"
      ],
      "metadata": {
        "colab": {
          "base_uri": "https://localhost:8080/"
        },
        "id": "nIUDavmuEkQW",
        "outputId": "ac275f23-0694-4500-929b-cb2f577a978b"
      },
      "execution_count": null,
      "outputs": [
        {
          "output_type": "stream",
          "name": "stdout",
          "text": [
            "(164638, 12)\n",
            "(164638, 1)\n"
          ]
        }
      ]
    },
    {
      "cell_type": "markdown",
      "source": [
        "The total number of records for the training set after ADASYN was implemented was 164,368 rows of data for each column in the dataset."
      ],
      "metadata": {
        "id": "Sb4MY3IJY-1e"
      }
    },
    {
      "cell_type": "code",
      "source": [
        "model = LogisticRegression(class_weight='balanced')\n",
        "model.fit(X_train_imputed, y_train)"
      ],
      "metadata": {
        "id": "6lWxxo7ebpTx"
      },
      "execution_count": null,
      "outputs": []
    },
    {
      "cell_type": "markdown",
      "source": [
        "Passing the data into the model."
      ],
      "metadata": {
        "id": "lZDqemCZeG2E"
      }
    },
    {
      "cell_type": "code",
      "source": [
        "param_grid = {'C': [0.001, 0.01, 0.1, 1, 10, 100]}\n",
        "grid_search = GridSearchCV(LogisticRegression(class_weight='balanced'), param_grid, cv=5)\n",
        "grid_search.fit(X_train_imputed, y_train)\n",
        "\n",
        "# Print the best hyperparameter value\n"
      ],
      "metadata": {
        "id": "ODL5LYmCudTF"
      },
      "execution_count": null,
      "outputs": []
    },
    {
      "cell_type": "code",
      "source": [
        "print(\"Optimal value for C:\", grid_search.best_params_['C'])"
      ],
      "metadata": {
        "colab": {
          "base_uri": "https://localhost:8080/"
        },
        "id": "Zb7xnNT6-3pG",
        "outputId": "54e90e69-e924-423d-c734-990c3077ff53"
      },
      "execution_count": null,
      "outputs": [
        {
          "output_type": "stream",
          "name": "stdout",
          "text": [
            "Optimal value for C: 0.01\n"
          ]
        }
      ]
    },
    {
      "cell_type": "code",
      "source": [
        "y_train_pred = grid_search.predict(X_train_imputed)\n",
        "training_accuracy = accuracy_score(y_train, y_train_pred)\n",
        "print(\"Accuracy on the training data:\", training_accuracy)"
      ],
      "metadata": {
        "colab": {
          "base_uri": "https://localhost:8080/"
        },
        "id": "CE2mlgmI-btl",
        "outputId": "bdcbebcd-b721-441c-b862-72cba1236caf"
      },
      "execution_count": null,
      "outputs": [
        {
          "output_type": "stream",
          "name": "stdout",
          "text": [
            "Accuracy on the training data: 0.8866555555555555\n"
          ]
        }
      ]
    },
    {
      "cell_type": "code",
      "source": [
        "cm = confusion_matrix(y_train, y_train_pred)\n",
        "cm_df = pd.DataFrame(cm, index = [i for i in \"01\"], columns = [i for i in \"01\"])\n",
        "plt.figure(figsize=(7,5))\n",
        "sns.heatmap(cm_df, annot=True, cmap='Blues', fmt='g')\n",
        "plt.title('Confusion Matrix')\n",
        "plt.ylabel('Actual Label')\n",
        "plt.xlabel('Predicted Label')\n",
        "plt.show()"
      ],
      "metadata": {
        "colab": {
          "base_uri": "https://localhost:8080/",
          "height": 487
        },
        "id": "D_2qY12B-kCQ",
        "outputId": "4208afd5-af83-4897-a3ef-8dd61ab0dd44"
      },
      "execution_count": null,
      "outputs": [
        {
          "output_type": "display_data",
          "data": {
            "text/plain": [
              "<Figure size 700x500 with 2 Axes>"
            ],
            "image/png": "[encoded data removed]"
          },
          "metadata": {}
        }
      ]
    },
    {
      "cell_type": "markdown",
      "source": [
        "Accuracy for predicting the diabetes label on the training set: (6652/7637) * 100 = 87%"
      ],
      "metadata": {
        "id": "RXogzyDs_WVl"
      }
    },
    {
      "cell_type": "code",
      "source": [
        "X_val = val_df[X]\n",
        "y_val = val_df[y]"
      ],
      "metadata": {
        "id": "SWLBuLPZbvvD"
      },
      "execution_count": null,
      "outputs": []
    },
    {
      "cell_type": "code",
      "source": [
        "X_test = test_df[X]\n",
        "y_test = test_df[y]"
      ],
      "metadata": {
        "id": "6sLHzbmXbuAw"
      },
      "execution_count": null,
      "outputs": []
    },
    {
      "cell_type": "code",
      "source": [
        "y_proba = model.predict_proba(X_val)[:, 1]\n",
        "y_pred_threshold_val = (y_proba > 0.3).astype(int)"
      ],
      "metadata": {
        "id": "f6KR2ZtYgEFf"
      },
      "execution_count": null,
      "outputs": []
    },
    {
      "cell_type": "code",
      "source": [
        "y_proba = model.predict_proba(X_test)[:, 1]\n",
        "y_pred_threshold_test = (y_proba > 0.3).astype(int)"
      ],
      "metadata": {
        "id": "NLoqdvXgvdkw"
      },
      "execution_count": null,
      "outputs": []
    },
    {
      "cell_type": "code",
      "source": [
        "accuracy = accuracy_score(y_val, y_pred_threshold_val)\n",
        "print(accuracy)"
      ],
      "metadata": {
        "colab": {
          "base_uri": "https://localhost:8080/"
        },
        "id": "ttgmqYiIgNDQ",
        "outputId": "44064961-0a1c-485e-d148-137cd429f939"
      },
      "execution_count": null,
      "outputs": [
        {
          "output_type": "stream",
          "name": "stdout",
          "text": [
            "0.8224\n"
          ]
        }
      ]
    },
    {
      "cell_type": "code",
      "source": [
        "accuracy = accuracy_score(y_test, y_pred_threshold_test)\n",
        "print(accuracy)"
      ],
      "metadata": {
        "colab": {
          "base_uri": "https://localhost:8080/"
        },
        "id": "iwAhvmc5byrP",
        "outputId": "c77f1897-2a06-40ae-ce9b-5d903028a66f"
      },
      "execution_count": null,
      "outputs": [
        {
          "output_type": "stream",
          "name": "stdout",
          "text": [
            "0.804\n"
          ]
        }
      ]
    },
    {
      "cell_type": "code",
      "source": [
        "cm = confusion_matrix(y_val, y_pred_threshold_val)\n",
        "cm_df = pd.DataFrame(cm, index = [i for i in \"01\"], columns = [i for i in \"01\"])\n",
        "plt.figure(figsize=(7,5))\n",
        "sns.heatmap(cm_df, annot=True, cmap='Blues', fmt='g')\n",
        "plt.title('Confusion Matrix')\n",
        "plt.ylabel('Actual Label')\n",
        "plt.xlabel('Predicted Label')\n",
        "plt.show()"
      ],
      "metadata": {
        "colab": {
          "base_uri": "https://localhost:8080/",
          "height": 487
        },
        "id": "9Ehi5AY6gYRF",
        "outputId": "b9d04a19-bee5-44e1-bd50-fdb2f8f2f3a1"
      },
      "execution_count": null,
      "outputs": [
        {
          "output_type": "display_data",
          "data": {
            "text/plain": [
              "<Figure size 700x500 with 2 Axes>"
            ],
            "image/png": "[encoded data removed]"
          },
          "metadata": {}
        }
      ]
    },
    {
      "cell_type": "markdown",
      "source": [
        "Accuracy for predicting the diabetes label on the validation set: 413/429 = 96.3%"
      ],
      "metadata": {
        "id": "rz0gtcwTg0LJ"
      }
    },
    {
      "cell_type": "code",
      "source": [
        "cm = confusion_matrix(y_test, y_pred_threshold_test)\n",
        "cm_df = pd.DataFrame(cm, index = [i for i in \"01\"], columns = [i for i in \"01\"])\n",
        "plt.figure(figsize=(7,5))\n",
        "sns.heatmap(cm_df, annot=True, cmap='Blues', fmt='g')\n",
        "plt.title('Confusion Matrix')\n",
        "plt.ylabel('Actual Label')\n",
        "plt.xlabel('Predicted Label')\n",
        "plt.show()"
      ],
      "metadata": {
        "id": "O9zNd7QGb4BC",
        "colab": {
          "base_uri": "https://localhost:8080/",
          "height": 487
        },
        "outputId": "321b0a06-9f7d-476a-8a3e-f3a301e68df8"
      },
      "execution_count": null,
      "outputs": [
        {
          "output_type": "display_data",
          "data": {
            "text/plain": [
              "<Figure size 700x500 with 2 Axes>"
            ],
            "image/png": "[encoded data removed]"
          },
          "metadata": {}
        }
      ]
    },
    {
      "cell_type": "markdown",
      "source": [
        "The accuracy for predicting the diabetes label on test set is approximately 94%.\n",
        "\n",
        "(408/434) * 100 = 94%"
      ],
      "metadata": {
        "id": "KJryAae5cYcI"
      }
    }
  ]
}