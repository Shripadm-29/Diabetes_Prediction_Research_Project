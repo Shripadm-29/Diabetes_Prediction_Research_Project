{
  "nbformat": 4,
  "nbformat_minor": 0,
  "metadata": {
    "colab": {
      "provenance": []
    },
    "kernelspec": {
      "name": "python3",
      "display_name": "Python 3"
    },
    "language_info": {
      "name": "python"
    }
  },
  "cells": [
    {
      "cell_type": "code",
      "source": [
        "from google.colab import drive\n",
        "drive.mount('/content/drive')"
      ],
      "metadata": {
        "id": "c8hK3tzdo8k_",
        "colab": {
          "base_uri": "https://localhost:8080/"
        },
        "outputId": "74ebfe29-3172-4418-9f13-7a9d6da7aa9d"
      },
      "execution_count": null,
      "outputs": [
        {
          "output_type": "stream",
          "name": "stdout",
          "text": [
            "Mounted at /content/drive\n"
          ]
        }
      ]
    },
    {
      "cell_type": "code",
      "source": [
        "!pip install --upgrade gspread\n",
        "!pip install pandas"
      ],
      "metadata": {
        "id": "R-b6rv4jGExp"
      },
      "execution_count": null,
      "outputs": []
    },
    {
      "cell_type": "code",
      "source": [
        "import pandas as pd\n",
        "import matplotlib.pyplot as plt\n",
        "from pandas.plotting import andrews_curves\n",
        "import seaborn as sns\n",
        "import numpy as np\n",
        "import os\n",
        "from sklearn.metrics import accuracy_score\n",
        "from google.colab import auth\n",
        "import gspread\n",
        "from google.auth import default\n",
        "import torch\n",
        "import torch.nn as nn\n",
        "import torch.optim as optim\n",
        "from torch.utils.data import Dataset, DataLoader\n",
        "from sklearn.preprocessing import StandardScaler\n",
        "from imblearn.over_sampling import ADASYN\n",
        "from sklearn.impute import SimpleImputer\n",
        "from sklearn.metrics import confusion_matrix\n",
        "\n",
        "path_train = '/content/drive/MyDrive/Data/train_data.csv'\n",
        "train_df = pd.read_csv(path_train)\n",
        "\n",
        "path_val = '/content/drive/MyDrive/Data/val_data.csv'\n",
        "val_df = pd.read_csv(path_val)\n",
        "\n",
        "path_test = '/content/drive/MyDrive/Data/test_data.csv'\n",
        "test_df = pd.read_csv(path_test)"
      ],
      "metadata": {
        "id": "eF3NqkOzslq6"
      },
      "execution_count": null,
      "outputs": []
    },
    {
      "cell_type": "markdown",
      "source": [
        "Importing Libraries to set up the notebook, and getting the dataset ready to be used by the AI model."
      ],
      "metadata": {
        "id": "I2Xb7e-0rCMn"
      }
    },
    {
      "cell_type": "code",
      "source": [
        "X = train_df.columns.difference(['diabetes'])\n",
        "y = ['diabetes']\n",
        "\n",
        "X_train = train_df[X]\n",
        "print('X_train, our input variables:')\n",
        "print(X_train.head())\n",
        "print()\n",
        "\n",
        "y_train = train_df[y]\n",
        "print('y_train, our output variable:')\n",
        "print(y_train.head())"
      ],
      "metadata": {
        "colab": {
          "base_uri": "https://localhost:8080/"
        },
        "id": "P6qLKkduso5p",
        "outputId": "1479c5a3-24ce-4d37-dbd8-bfc2465e2d6c"
      },
      "execution_count": null,
      "outputs": [
        {
          "output_type": "stream",
          "name": "stdout",
          "text": [
            "X_train, our input variables:\n",
            "   HbA1c_level   age  blood_glucose_level    bmi  gender  heart_disease  \\\n",
            "0          4.0  36.0                  145  17.06     1.0              0   \n",
            "1          6.1  58.0                  159  37.83     0.0              0   \n",
            "2          5.0  43.0                  160  39.20     0.0              0   \n",
            "3          5.7  67.0                  159  28.39     1.0              0   \n",
            "4          6.0   5.0                   80  27.32     0.0              0   \n",
            "\n",
            "   hypertension  smoking_history_current  smoking_history_ever  \\\n",
            "0             0                        0                     0   \n",
            "1             0                        0                     0   \n",
            "2             0                        0                     0   \n",
            "3             1                        0                     0   \n",
            "4             0                        0                     0   \n",
            "\n",
            "   smoking_history_former  smoking_history_never  smoking_history_not current  \n",
            "0                       0                      1                            0  \n",
            "1                       0                      0                            0  \n",
            "2                       0                      1                            0  \n",
            "3                       0                      1                            0  \n",
            "4                       0                      0                            0  \n",
            "\n",
            "y_train, our output variable:\n",
            "   diabetes\n",
            "0         0\n",
            "1         0\n",
            "2         0\n",
            "3         0\n",
            "4         0\n"
          ]
        }
      ]
    },
    {
      "cell_type": "markdown",
      "source": [
        "Setting up the model by mentioning which columns represent the input features and which column is the output label."
      ],
      "metadata": {
        "id": "4dR3ULs2rsKr"
      }
    },
    {
      "cell_type": "code",
      "source": [
        "imputer = SimpleImputer(strategy='mean')\n",
        "X_train_imputed = imputer.fit_transform(X_train)"
      ],
      "metadata": {
        "id": "sStJMed1fopz"
      },
      "execution_count": null,
      "outputs": []
    },
    {
      "cell_type": "code",
      "source": [
        "adasyn = ADASYN(random_state=42)\n",
        "X_adasyn, y_adasyn = adasyn.fit_resample(X_train_imputed, y_train)"
      ],
      "metadata": {
        "id": "E-Ev3AMWs64j"
      },
      "execution_count": null,
      "outputs": []
    },
    {
      "cell_type": "code",
      "source": [
        "X_val = val_df[X]\n",
        "y_val = val_df[y]"
      ],
      "metadata": {
        "id": "wTLYLeVrf42f"
      },
      "execution_count": null,
      "outputs": []
    },
    {
      "cell_type": "code",
      "source": [
        "X_test = test_df[X]\n",
        "y_test = test_df[y]"
      ],
      "metadata": {
        "id": "X8bVtVjts9ZJ"
      },
      "execution_count": null,
      "outputs": []
    },
    {
      "cell_type": "code",
      "source": [
        "scaler = StandardScaler()\n",
        "X_adasyn_scaled = scaler.fit_transform(X_adasyn)\n",
        "X_val_scaled = scaler.transform(X_val)\n",
        "X_test_scaled = scaler.transform(X_test)"
      ],
      "metadata": {
        "id": "VTrEuC6JtHD4"
      },
      "execution_count": null,
      "outputs": []
    },
    {
      "cell_type": "markdown",
      "source": [
        "The code uses a StandardScaler to standardize the features of two datasets, X_adasyn and X_val. The fit_transform method scales the training data (X_adasyn), while the transform method scales the validation data (X_val) using the parameters learned from the training data."
      ],
      "metadata": {
        "id": "JzVloCBjsTC6"
      }
    },
    {
      "cell_type": "code",
      "source": [
        "# Convert pandas DataFrames to PyTorch tensors\n",
        "X_adasyn_tensor = torch.tensor(X_adasyn_scaled, dtype=torch.float32)\n",
        "y_adasyn_tensor = torch.tensor(y_adasyn.values, dtype=torch.float32)\n",
        "X_val_tensor = torch.tensor(X_val_scaled, dtype=torch.float32)\n",
        "y_val_tensor = torch.tensor(y_val.values, dtype=torch.float32)"
      ],
      "metadata": {
        "id": "C2YsoWifgL0c"
      },
      "execution_count": null,
      "outputs": []
    },
    {
      "cell_type": "code",
      "source": [
        "# Convert pandas DataFrames to PyTorch tensors\n",
        "X_adasyn_tensor = torch.tensor(X_adasyn_scaled, dtype=torch.float32)\n",
        "y_adasyn_tensor = torch.tensor(y_adasyn.values, dtype=torch.float32)\n",
        "X_test_tensor = torch.tensor(X_test_scaled, dtype=torch.float32)\n",
        "y_test_tensor = torch.tensor(y_test.values, dtype=torch.float32)"
      ],
      "metadata": {
        "id": "zifR0aGeru3I"
      },
      "execution_count": null,
      "outputs": []
    },
    {
      "cell_type": "markdown",
      "source": [
        "The code converts the standardized datasets (X_adasyn_scaled, y_adasyn, X_val_scaled, y_val) into PyTorch tensors (X_adasyn_tensor, y_adasyn_tensor, X_val_tensor, y_val_tensor) with a specified data type of float32."
      ],
      "metadata": {
        "id": "dyJyhPQTsjOb"
      }
    },
    {
      "cell_type": "code",
      "source": [
        "class DiabetesPredictionModel(nn.Module):\n",
        "    def __init__(self, input_size):\n",
        "        super(DiabetesPredictionModel, self).__init__()\n",
        "        self.conv_stack = nn.Sequential(\n",
        "            nn.Conv1d(1, 32, kernel_size=3, padding=1),\n",
        "            nn.BatchNorm1d(32),\n",
        "            nn.ReLU(),\n",
        "            nn.MaxPool1d(kernel_size=2),\n",
        "            nn.Conv1d(32, 64, kernel_size=3, padding=1),\n",
        "            nn.BatchNorm1d(64),\n",
        "            nn.ReLU(),\n",
        "            nn.MaxPool1d(kernel_size=2),\n",
        "            nn.Flatten()\n",
        "        )\n",
        "\n",
        "        # Calculate the output size of the convolutional layers\n",
        "        with torch.no_grad():\n",
        "            dummy_input = torch.zeros(1, 1, input_size)\n",
        "            conv_output_size = self._get_conv_output_size(dummy_input)\n",
        "\n",
        "        self.linear_stack = nn.Sequential(\n",
        "            nn.Linear(conv_output_size, 128),\n",
        "            nn.ReLU(),\n",
        "            nn.Dropout(0.2),\n",
        "            nn.Linear(128, 64),\n",
        "            nn.ReLU(),\n",
        "            nn.Dropout(0.2),\n",
        "            nn.Linear(64, 32),\n",
        "            nn.ReLU(),\n",
        "            nn.Dropout(0.2),\n",
        "            nn.Linear(32, 1),\n",
        "        )\n",
        "\n",
        "    def _get_conv_output_size(self, x):\n",
        "        x = self.conv_stack(x)\n",
        "        return x.view(x.size(0), -1).size(1)\n",
        "\n",
        "    def forward(self, x):\n",
        "        x = self.conv_stack(x)\n",
        "        logits = self.linear_stack(x)\n",
        "        return logits"
      ],
      "metadata": {
        "id": "R35FrMiarxLU"
      },
      "execution_count": null,
      "outputs": []
    },
    {
      "cell_type": "markdown",
      "source": [
        "The code defines a neural network model (DiabetesPredictionModel) using PyTorch's nn.Module. It consists of convolutional layers followed by batch normalization, ReLU activation, and max pooling. The convolutional layers are then flattened, and the output is passed through fully connected layers with ReLU activation, dropout, and a final linear layer for binary classification. The model is designed for predicting diabetes based on input data with a specified size."
      ],
      "metadata": {
        "id": "2jva1swTt801"
      }
    },
    {
      "cell_type": "code",
      "source": [
        "# Define custom dataset for training and testing\n",
        "class DiabetesDataset(Dataset):\n",
        "    def __init__(self, X, y):\n",
        "        self.X = X\n",
        "        self.y = y\n",
        "\n",
        "    def __getitem__(self, index):\n",
        "        return self.X[index], self.y[index]\n",
        "\n",
        "    def __len__(self):\n",
        "        return len(self.X)"
      ],
      "metadata": {
        "id": "7zqpJz9AtjMZ"
      },
      "execution_count": null,
      "outputs": []
    },
    {
      "cell_type": "markdown",
      "source": [
        "The code creates a PyTorch dataset class (DiabetesDataset) for managing input features (X) and labels (y). It includes methods for accessing individual items and obtaining the dataset's length."
      ],
      "metadata": {
        "id": "W1GZoizPuWgp"
      }
    },
    {
      "cell_type": "code",
      "source": [
        "# Create data loaders for training and validation\n",
        "adasyn_dataset = DiabetesDataset(X_adasyn_tensor.unsqueeze(1), y_adasyn_tensor)  # Add an extra dimension for input channels\n",
        "test_dataset = DiabetesDataset(X_test_tensor.unsqueeze(1), y_val_tensor)  # Add an extra dimension for input channels\n",
        "adasyn_loader = DataLoader(adasyn_dataset, batch_size=64, shuffle=True)\n",
        "test_loader = DataLoader(test_dataset, batch_size=64)"
      ],
      "metadata": {
        "id": "PmuGxEQ_TAC-"
      },
      "execution_count": null,
      "outputs": []
    },
    {
      "cell_type": "markdown",
      "source": [
        "The code sets up PyTorch datasets (adasyn_dataset and val_dataset) and corresponding data loaders (adasyn_loader and val_loader). The input features are adjusted to include an additional dimension for input channels using unsqueeze(1). The DataLoader is configured with batch sizes and optional shuffling for the training dataset."
      ],
      "metadata": {
        "id": "N4oWyYVSu5ZL"
      }
    },
    {
      "cell_type": "code",
      "source": [
        "# Creating data loaders for training and validation\n",
        "adasyn_dataset = DiabetesDataset(X_adasyn_tensor.unsqueeze(1), y_adasyn_tensor)  # Add an extra dimension for input channels\n",
        "test_dataset = DiabetesDataset(X_test_tensor.unsqueeze(1), y_test_tensor)  # Add an extra dimension for input channels\n",
        "adasyn_loader = DataLoader(adasyn_dataset, batch_size=64, shuffle=True)\n",
        "test_loader = DataLoader(test_dataset, batch_size=64)\n",
        "\n",
        "# Instantiating the model\n",
        "input_size = X_adasyn_tensor.shape[1]\n",
        "model = DiabetesPredictionModel(input_size)\n",
        "\n",
        "criterion = nn.BCEWithLogitsLoss()\n",
        "optimizer = optim.AdamW(model.parameters(), lr=0.000760, weight_decay=0.01)\n",
        "\n",
        "scheduler = optim.lr_scheduler.ReduceLROnPlateau(optimizer, factor=0.5130609121, patience=9, verbose=True)"
      ],
      "metadata": {
        "id": "6qlNwHAQk6VQ"
      },
      "execution_count": null,
      "outputs": []
    },
    {
      "cell_type": "markdown",
      "source": [
        "The code prepares data loaders for training and validation using PyTorch. It creates instances of a diabetes prediction model, defines a loss function, sets up an optimizer, and incorporates a learning rate scheduler for training."
      ],
      "metadata": {
        "id": "i7zSfTCcvtDL"
      }
    },
    {
      "cell_type": "code",
      "source": [
        "#Training and testing model\n",
        "num_epochs = 5\n",
        "best_val_loss = float('inf')\n",
        "for epoch in range(num_epochs):\n",
        "    model.train()\n",
        "    train_loss = 0.0\n",
        "    for inputs, targets in adasyn_loader:\n",
        "        optimizer.zero_grad()\n",
        "        outputs = model(inputs)\n",
        "        loss = criterion(outputs.squeeze(), targets.squeeze())\n",
        "        loss.backward()\n",
        "\n",
        "        optimizer.step()\n",
        "        train_loss += loss.item() * inputs.size(0)\n",
        "    train_loss /= len(adasyn_dataset)\n",
        "\n",
        "    model.eval()\n",
        "    test_loss = 0.0\n",
        "    with torch.no_grad():\n",
        "        for inputs, targets in test_loader:\n",
        "            outputs = model(inputs)\n",
        "            loss = criterion(outputs.squeeze(), targets.squeeze())\n",
        "            test_loss += loss.item() * inputs.size(0)\n",
        "    test_loss /= len(test_dataset)\n",
        "\n",
        "    scheduler.step(test_loss)\n",
        "\n",
        "    print(f\"Epoch {epoch+1}/{num_epochs}, Train Loss: {train_loss:.4f}, Val Loss: {test_loss:.4f}\")\n",
        "\n",
        "\n"
      ],
      "metadata": {
        "colab": {
          "base_uri": "https://localhost:8080/"
        },
        "id": "OGC8OUVpk9aT",
        "outputId": "a31c53ff-8b36-4948-b606-eea853960e72"
      },
      "execution_count": null,
      "outputs": [
        {
          "output_type": "stream",
          "name": "stdout",
          "text": [
            "Epoch 1/5, Train Loss: 0.1918, Val Loss: 0.1864\n",
            "Epoch 2/5, Train Loss: 0.1596, Val Loss: 0.1459\n",
            "Epoch 3/5, Train Loss: 0.1534, Val Loss: 0.1156\n",
            "Epoch 4/5, Train Loss: 0.1484, Val Loss: 0.1685\n",
            "Epoch 5/5, Train Loss: 0.1443, Val Loss: 0.1255\n"
          ]
        }
      ]
    },
    {
      "cell_type": "markdown",
      "source": [
        "The code trains a diabetes prediction model for a specified number of epochs. It iterates through the training data, updates the model's weights based on the loss, and evaluates the model on the validation data."
      ],
      "metadata": {
        "id": "MTQqnm5fwDmK"
      }
    },
    {
      "cell_type": "code",
      "source": [
        "model.eval()\n",
        "with torch.no_grad():\n",
        "    y_pred_adasyn = (model(X_adasyn_tensor.unsqueeze(1)) > 0.5).squeeze().numpy()\n",
        "    y_pred_val = (model(X_val_tensor.unsqueeze(1)) > 0.5).squeeze().numpy()\n",
        "\n",
        "adasyn_accuracy = accuracy_score(y_adasyn, y_pred_adasyn)\n",
        "val_accuracy = accuracy_score(y_val, y_pred_val)\n",
        "\n",
        "print(\"ADASYN Accuracy:\", adasyn_accuracy)\n",
        "print(\"Val Accuracy:\", val_accuracy)\n"
      ],
      "metadata": {
        "colab": {
          "base_uri": "https://localhost:8080/"
        },
        "id": "BlBVzyPOhBoa",
        "outputId": "a9573c74-0ed8-4fd8-b639-256233116d14"
      },
      "execution_count": null,
      "outputs": [
        {
          "output_type": "stream",
          "name": "stdout",
          "text": [
            "ADASYN Accuracy: 0.9272221479852768\n",
            "Val Accuracy: 0.9706\n"
          ]
        }
      ]
    },
    {
      "cell_type": "code",
      "source": [
        "model.eval()\n",
        "with torch.no_grad():\n",
        "    y_pred_adasyn = (model(X_adasyn_tensor.unsqueeze(1)) > 0.5).squeeze().numpy()\n",
        "    y_pred_test = (model(X_test_tensor.unsqueeze(1)) > 0.5).squeeze().numpy()\n",
        "\n",
        "adasyn_accuracy = accuracy_score(y_adasyn, y_pred_adasyn)\n",
        "test_accuracy = accuracy_score(y_test, y_pred_test)\n",
        "\n",
        "print(\"ADASYN Accuracy:\", adasyn_accuracy)\n",
        "print(\"Test Accuracy:\", test_accuracy)\n"
      ],
      "metadata": {
        "colab": {
          "base_uri": "https://localhost:8080/"
        },
        "id": "BA6lBpjztqP-",
        "outputId": "a70c2bca-c290-4931-a31e-0bb40650ec4e"
      },
      "execution_count": null,
      "outputs": [
        {
          "output_type": "stream",
          "name": "stdout",
          "text": [
            "ADASYN Accuracy: 0.9272221479852768\n",
            "Test Accuracy: 0.9688\n"
          ]
        }
      ]
    },
    {
      "cell_type": "markdown",
      "source": [
        "The code uses a trained model to predict outcomes for two datasets (ADASYN and validation). It calculates accuracy scores by comparing the model predictions to the actual labels and prints the accuracy for both datasets."
      ],
      "metadata": {
        "id": "y-2Pw2AgwQiT"
      }
    },
    {
      "cell_type": "code",
      "source": [
        "cm = confusion_matrix(y_adasyn, y_pred_adasyn)\n",
        "cm_df = pd.DataFrame(cm, index = [i for i in \"01\"], columns = [i for i in \"01\"])\n",
        "plt.figure(figsize=(7,5))\n",
        "sns.heatmap(cm_df, annot=True, cmap='Blues', fmt='g')\n",
        "plt.title('Confusion Matrix (ADASYN)')\n",
        "plt.ylabel('Actual Label')\n",
        "plt.xlabel('Predicted Label')\n",
        "plt.show()"
      ],
      "metadata": {
        "colab": {
          "base_uri": "https://localhost:8080/",
          "height": 487
        },
        "id": "vApotQwAhqSJ",
        "outputId": "2ca4cb82-c012-44eb-a9ab-0200c61ade42"
      },
      "execution_count": null,
      "outputs": [
        {
          "output_type": "display_data",
          "data": {
            "text/plain": [
              "<Figure size 700x500 with 2 Axes>"
            ],
            "image/png": "[encoded data removed]"
          },
          "metadata": {}
        }
      ]
    },
    {
      "cell_type": "markdown",
      "source": [
        "Accuracy for predicting the diabetes label on the training set: (70957/82275) * 100 = 86.2%"
      ],
      "metadata": {
        "id": "enSo4muWBXPs"
      }
    },
    {
      "cell_type": "code",
      "source": [
        "cm = confusion_matrix(y_val, y_pred_val)\n",
        "\n",
        "cm_df = pd.DataFrame(cm, index = [i for i in \"01\"], columns = [i for i in \"01\"])\n",
        "\n",
        "plt.figure(figsize=(7,5))\n",
        "sns.heatmap(cm_df, annot=True, cmap='Blues', fmt='g')\n",
        "plt.title('Confusion Matrix')\n",
        "plt.ylabel('Actual Label')\n",
        "plt.xlabel('Predicted Label')\n",
        "plt.show()"
      ],
      "metadata": {
        "colab": {
          "base_uri": "https://localhost:8080/",
          "height": 487
        },
        "id": "s8qg-8arh894",
        "outputId": "0112410f-4e0e-43c4-d8a7-fd6add1a53bb"
      },
      "execution_count": null,
      "outputs": [
        {
          "output_type": "display_data",
          "data": {
            "text/plain": [
              "<Figure size 700x500 with 2 Axes>"
            ],
            "image/png": "[encoded data removed]"
          },
          "metadata": {}
        }
      ]
    },
    {
      "cell_type": "markdown",
      "source": [
        "Accuracy for predicting the diabetes label on the validation set: (310/429) * 100 = 72.3%"
      ],
      "metadata": {
        "id": "oYGxz_iSByF9"
      }
    },
    {
      "cell_type": "code",
      "source": [
        "cm = confusion_matrix(y_test, y_pred_test)\n",
        "\n",
        "cm_df = pd.DataFrame(cm, index = [i for i in \"01\"], columns = [i for i in \"01\"])\n",
        "\n",
        "plt.figure(figsize=(7,5))\n",
        "sns.heatmap(cm_df, annot=True, cmap='Blues', fmt='g')\n",
        "plt.title('Confusion Matrix')\n",
        "plt.ylabel('Actual Label')\n",
        "plt.xlabel('Predicted Label')\n",
        "plt.show()"
      ],
      "metadata": {
        "colab": {
          "base_uri": "https://localhost:8080/",
          "height": 487
        },
        "id": "PHmOOsNItt3l",
        "outputId": "33d236d2-c9d6-47e5-b128-40f6d5201e41"
      },
      "execution_count": null,
      "outputs": [
        {
          "output_type": "display_data",
          "data": {
            "text/plain": [
              "<Figure size 700x500 with 2 Axes>"
            ],
            "image/png": "[encoded data removed]"
          },
          "metadata": {}
        }
      ]
    },
    {
      "cell_type": "markdown",
      "source": [
        "The accuracy for predicting the diabetes label on test set is: (316/434) * 100 = 72.8%"
      ],
      "metadata": {
        "id": "a_p4xy2QCFJC"
      }
    },
    {
      "cell_type": "markdown",
      "source": [
        "The code computes a confusion matrix using the predicted values (y_pred_val) and actual labels (y_val). It then visualizes the confusion matrix using a heatmap, providing an overview of the model's performance in terms of true positives, true negatives, false positives, and false negatives."
      ],
      "metadata": {
        "id": "HBkOdZ04wf2u"
      }
    }
  ]
}