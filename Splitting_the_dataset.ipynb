{
  "nbformat": 4,
  "nbformat_minor": 0,
  "metadata": {
    "colab": {
      "provenance": []
    },
    "kernelspec": {
      "name": "python3",
      "display_name": "Python 3"
    },
    "language_info": {
      "name": "python"
    }
  },
  "cells": [
    {
      "cell_type": "code",
      "execution_count": null,
      "metadata": {
        "colab": {
          "base_uri": "https://localhost:8080/"
        },
        "id": "s2QHWU5AdFQs",
        "outputId": "62d0581a-3eba-4160-a413-d4189e41b4a8"
      },
      "outputs": [
        {
          "output_type": "stream",
          "name": "stdout",
          "text": [
            "Mounted at /content/drive\n"
          ]
        }
      ],
      "source": [
        "from google.colab import drive\n",
        "drive.mount('/content/drive')"
      ]
    },
    {
      "cell_type": "code",
      "source": [
        "import pandas as pd\n",
        "from sklearn.model_selection import train_test_split\n",
        "\n",
        "path = '/content/drive/MyDrive/Data/diabetes_prediction_dataset.csv'\n",
        "dataframe = pd.read_csv(path)\n",
        "\n",
        "# Label encode 'gender' column\n",
        "dataframe['gender'] = dataframe['gender'].replace({'Male': 1, 'Female': 0})\n",
        "\n",
        "# One-hot encode 'smoking_history' column\n",
        "dataframe = pd.get_dummies(dataframe, columns=['smoking_history'], drop_first=True)\n"
      ],
      "metadata": {
        "id": "_WK1qkqndi7b"
      },
      "execution_count": null,
      "outputs": []
    },
    {
      "cell_type": "code",
      "source": [
        "dataframe['gender'] = pd.to_numeric(dataframe['gender'], errors='coerce')"
      ],
      "metadata": {
        "id": "d9VP8hqMd1wX"
      },
      "execution_count": null,
      "outputs": []
    },
    {
      "cell_type": "code",
      "source": [
        "# Splitting the dataset into train and test sets\n",
        "train_df, test_df = train_test_split(dataframe, test_size=0.1, random_state=42)\n",
        "\n",
        "# Splitting the test set further into validation and test sets\n",
        "val_df, test_df = train_test_split(test_df, test_size=0.5, random_state=42)\n",
        "\n",
        "# Verify the shape of each split\n",
        "print(\"Train set shape:\", train_df.shape)\n",
        "print(\"Validation set shape:\", val_df.shape)\n",
        "print(\"Test set shape:\", test_df.shape)"
      ],
      "metadata": {
        "colab": {
          "base_uri": "https://localhost:8080/"
        },
        "id": "o8asOV_seQMK",
        "outputId": "a856af39-7f5c-44ad-dbbc-539ea5e1de8c"
      },
      "execution_count": null,
      "outputs": [
        {
          "output_type": "stream",
          "name": "stdout",
          "text": [
            "Train set shape: (90000, 13)\n",
            "Validation set shape: (5000, 13)\n",
            "Test set shape: (5000, 13)\n"
          ]
        }
      ]
    },
    {
      "cell_type": "code",
      "source": [
        "#Just run once\n",
        "#Saving Train/val/test data into google drive.\n",
        "train_df.to_csv('/content/drive/MyDrive/Data/train_data.csv', index=False)\n",
        "val_df.to_csv('/content/drive/MyDrive/Data/val_data.csv', index=False)\n",
        "test_df.to_csv('/content/drive/MyDrive/Data/test_data.csv', index=False)"
      ],
      "metadata": {
        "id": "RPpp80FPeQsA"
      },
      "execution_count": null,
      "outputs": []
    }
  ]
}